{
 "cells": [
  {
   "cell_type": "code",
   "execution_count": 1,
   "id": "9b821d30",
   "metadata": {},
   "outputs": [],
   "source": [
    "import pandas as pd\n",
    "import sys\n",
    "import os\n",
    "sys.path.insert(0,'../scripts/')\n",
    "from shapely.geometry import box, Point, Polygon \n",
    "from lidar_package import PythonLidarPackage\n",
    "from IPython.display import Markdown, display, Image \n",
    "from fetch_lidar import Lidar_Data_Fetch"
   ]
  },
  {
   "cell_type": "code",
   "execution_count": 2,
   "id": "d61f04ea",
   "metadata": {},
   "outputs": [],
   "source": [
    "meta_data = pd.read_csv('../data/meta_data3.csv')"
   ]
  },
  {
   "cell_type": "code",
   "execution_count": 3,
   "id": "12fef4b6",
   "metadata": {
    "scrolled": true
   },
   "outputs": [
    {
     "data": {
      "text/html": [
       "<div>\n",
       "<style scoped>\n",
       "    .dataframe tbody tr th:only-of-type {\n",
       "        vertical-align: middle;\n",
       "    }\n",
       "\n",
       "    .dataframe tbody tr th {\n",
       "        vertical-align: top;\n",
       "    }\n",
       "\n",
       "    .dataframe thead th {\n",
       "        text-align: right;\n",
       "    }\n",
       "</style>\n",
       "<table border=\"1\" class=\"dataframe\">\n",
       "  <thead>\n",
       "    <tr style=\"text-align: right;\">\n",
       "      <th></th>\n",
       "      <th>filename</th>\n",
       "      <th>region</th>\n",
       "      <th>year</th>\n",
       "      <th>xmin</th>\n",
       "      <th>xmax</th>\n",
       "      <th>ymin</th>\n",
       "      <th>ymax</th>\n",
       "      <th>points</th>\n",
       "    </tr>\n",
       "  </thead>\n",
       "  <tbody>\n",
       "    <tr>\n",
       "      <th>0</th>\n",
       "      <td>AK_BrooksCamp_2012</td>\n",
       "      <td>AK_BrooksCamp</td>\n",
       "      <td>2012.0</td>\n",
       "      <td>-17347360.0</td>\n",
       "      <td>-17321558.0</td>\n",
       "      <td>8065364.0</td>\n",
       "      <td>8091166.0</td>\n",
       "      <td>529285317</td>\n",
       "    </tr>\n",
       "    <tr>\n",
       "      <th>1</th>\n",
       "      <td>AK_Coastal_2009</td>\n",
       "      <td>AK_Coastal</td>\n",
       "      <td>2009.0</td>\n",
       "      <td>-15730544.0</td>\n",
       "      <td>-15691854.0</td>\n",
       "      <td>10937407.0</td>\n",
       "      <td>10976097.0</td>\n",
       "      <td>55711772</td>\n",
       "    </tr>\n",
       "    <tr>\n",
       "      <th>2</th>\n",
       "      <td>AK_Fairbanks-NSBorough_2010</td>\n",
       "      <td>AK_Fairbanks-NSBorough</td>\n",
       "      <td>2010.0</td>\n",
       "      <td>-16471700.0</td>\n",
       "      <td>-16381190.0</td>\n",
       "      <td>9519129.0</td>\n",
       "      <td>9609639.0</td>\n",
       "      <td>1266097458</td>\n",
       "    </tr>\n",
       "    <tr>\n",
       "      <th>3</th>\n",
       "      <td>AK_Juneau_2012</td>\n",
       "      <td>AK_Juneau</td>\n",
       "      <td>2012.0</td>\n",
       "      <td>-15014449.0</td>\n",
       "      <td>-14943073.0</td>\n",
       "      <td>8012267.0</td>\n",
       "      <td>8083643.0</td>\n",
       "      <td>2211557952</td>\n",
       "    </tr>\n",
       "    <tr>\n",
       "      <th>4</th>\n",
       "      <td>AK_Kenai_2008</td>\n",
       "      <td>AK_Kenai</td>\n",
       "      <td>2008.0</td>\n",
       "      <td>-16906356.0</td>\n",
       "      <td>-16570284.0</td>\n",
       "      <td>8303726.0</td>\n",
       "      <td>8639798.0</td>\n",
       "      <td>14054081685</td>\n",
       "    </tr>\n",
       "  </tbody>\n",
       "</table>\n",
       "</div>"
      ],
      "text/plain": [
       "                      filename                  region    year        xmin  \\\n",
       "0           AK_BrooksCamp_2012           AK_BrooksCamp  2012.0 -17347360.0   \n",
       "1              AK_Coastal_2009              AK_Coastal  2009.0 -15730544.0   \n",
       "2  AK_Fairbanks-NSBorough_2010  AK_Fairbanks-NSBorough  2010.0 -16471700.0   \n",
       "3               AK_Juneau_2012               AK_Juneau  2012.0 -15014449.0   \n",
       "4                AK_Kenai_2008                AK_Kenai  2008.0 -16906356.0   \n",
       "\n",
       "         xmax        ymin        ymax       points  \n",
       "0 -17321558.0   8065364.0   8091166.0    529285317  \n",
       "1 -15691854.0  10937407.0  10976097.0     55711772  \n",
       "2 -16381190.0   9519129.0   9609639.0   1266097458  \n",
       "3 -14943073.0   8012267.0   8083643.0   2211557952  \n",
       "4 -16570284.0   8303726.0   8639798.0  14054081685  "
      ]
     },
     "execution_count": 3,
     "metadata": {},
     "output_type": "execute_result"
    }
   ],
   "source": [
    "meta_data.head()"
   ]
  },
  {
   "cell_type": "code",
   "execution_count": 8,
   "id": "494b7cac",
   "metadata": {},
   "outputs": [],
   "source": [
    "\n",
    "MINX, MINY, MAXX, MAXY = [-93.756155, 41.918015, -93.747334, 41.921429]\n",
    "\n",
    "polygon = Polygon(((MINX, MINY), (MINX, MAXY),\n",
    "                   (MAXX, MAXY), (MAXX, MINY), (MINX, MINY)))\n",
    "epsg = 4326"
   ]
  },
  {
   "cell_type": "code",
   "execution_count": 9,
   "id": "cd8f2f38",
   "metadata": {},
   "outputs": [],
   "source": [
    "lidarPkg = PythonLidarPackage(epsg)"
   ]
  },
  {
   "cell_type": "code",
   "execution_count": 10,
   "id": "6034514b",
   "metadata": {},
   "outputs": [
    {
     "name": "stdout",
     "output_type": "stream",
     "text": [
      "trying to Fetch elevation data for year Unknown from file_name IA_FullState...\n",
      "trying to Fetch elevation data for year 2009 from file_name NE_Rainwater-2_2009...\n",
      "trying to Fetch elevation data for year 2010 from file_name SD_James_River_NRCS_J_2010...\n",
      "trying to Fetch elevation data for year 2012 from file_name SD_Spink_County_2012...\n",
      "trying to Fetch elevation data for year 2017 from file_name USGS_LPC_NE_NRCS_OrthoLidar_B2_2017_LAS_2019...\n",
      "trying to Fetch elevation data for year 2016 from file_name USGS_LPC_NE_Hat_White_Cherry_UTM14_2016_LAS_2019...\n"
     ]
    }
   ],
   "source": [
    "result = lidarPkg.get_elevation_df(polygon, False, False)"
   ]
  },
  {
   "cell_type": "code",
   "execution_count": null,
   "id": "53ce76d5",
   "metadata": {},
   "outputs": [],
   "source": []
  }
 ],
 "metadata": {
  "kernelspec": {
   "display_name": "lydar",
   "language": "python",
   "name": "lydar"
  },
  "language_info": {
   "codemirror_mode": {
    "name": "ipython",
    "version": 3
   },
   "file_extension": ".py",
   "mimetype": "text/x-python",
   "name": "python",
   "nbconvert_exporter": "python",
   "pygments_lexer": "ipython3",
   "version": "3.10.4"
  }
 },
 "nbformat": 4,
 "nbformat_minor": 5
}
